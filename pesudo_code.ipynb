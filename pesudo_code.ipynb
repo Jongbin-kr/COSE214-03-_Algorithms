{
 "cells": [
  {
   "cell_type": "markdown",
   "metadata": {},
   "source": [
    "알고리즘 시험 중간고사를 대비하고자, 교재 내의 pseudo-code들을 정리했습니다.\n",
    "\n",
    "This notebook is created for organizing the pseudo codes in the textbook for university exams."
   ]
  },
  {
   "cell_type": "markdown",
   "metadata": {},
   "source": [
    "## Insertion sort: best $\\theta(n)$, worst $\\theta(n^2)$"
   ]
  },
  {
   "cell_type": "code",
   "execution_count": null,
   "metadata": {},
   "outputs": [],
   "source": [
    "def insertion_sort(A):              ## times\n",
    "    for j = 2 to A.length:          ## n\n",
    "        key = A[j]                  ## n-1\n",
    "        i = j -1                    ## n-1\n",
    "        while i > 0 and A[i] > key: ## sigma(j=2 to n) t_j  -> t_j는 1 or j\n",
    "            A[i+1] = A[i]           ## sigma(j=2 to n) (t_j - 1)\n",
    "            i = i - 1               ## sigma(j=2 to n) (t_j - 1)\n",
    "        A[i + 1] = key              ## n-1\n"
   ]
  },
  {
   "cell_type": "markdown",
   "metadata": {},
   "source": [
    "## Merge sort: $\\theta(n lgn)$\n",
    "+ merge sort \n",
    "+ merge: 중첩반복문이 없으므로, $\\theta(n)$"
   ]
  },
  {
   "cell_type": "code",
   "execution_count": null,
   "metadata": {},
   "outputs": [],
   "source": [
    "def merge_sort(A, p, r):\n",
    "    if p < r:\n",
    "        q = (p + r) // 2        ## 1\n",
    "        merge_sort(A, p, q)     ## T(n/2)\n",
    "        merge_sort(A, q+1, r)   ## T(n/2)\n",
    "        merge(A, p, q, r)       ## n\n",
    "                                ## T(n) = 2T(n/2) + cn\n",
    "                                ## => height = log_2 n, levels = (log_2 n + 1)\n",
    "                                ## ==> Therefore, T(n) = cn(log_2 n + 1) = theta(nlog_2 n)"
   ]
  },
  {
   "cell_type": "code",
   "execution_count": null,
   "metadata": {},
   "outputs": [],
   "source": [
    "def merge(A, p, q, r):              \n",
    "    nL = q - p + 1                  ## 1\n",
    "    nR = r - q                      ## 1\n",
    "    let L[1...nL+1] and R[1...nR+1] ## 1\n",
    "    for i = 1 to nL:                ## nL\n",
    "        L[i] = A[p + i -1]          ## 1\n",
    "    for j = 1 to nR:                ## nR  \n",
    "        R[j] = A[q + j]             ## 1  => nL + nR = n\n",
    "    L[nL + 1] = float(\"inf\")        ## 1 => set sentienl (see Exercise 2.3-2)\n",
    "    R[nR + 1] = float(\"inf\")        ## 1 => set sentienl (see Exercise 2.3-2)\n",
    "    \n",
    "    i = 1                           ## 1\n",
    "    j = 1                           ## 1\n",
    "    for k = p to r:                 ## n+1\n",
    "        if L[i] <= R[j]:            ## n\n",
    "            A[k] = L[i]             ## n\n",
    "            i = i + 1               ## n\n",
    "        else:\n",
    "            A[k] = R[j]             ## n\n",
    "            j = j + 1               ## n\n",
    "                                    ## => T(n) = an + b = theta(n)"
   ]
  },
  {
   "cell_type": "markdown",
   "metadata": {},
   "source": [
    "### maximum-subarray: $\\theta(n{\\lg n})$"
   ]
  },
  {
   "cell_type": "code",
   "execution_count": null,
   "metadata": {},
   "outputs": [],
   "source": [
    "def find_maximum_subarray(A, low, high):\n",
    "    if high == low:                                                             ## 1\n",
    "        return (low, high, A[low])                                              ## 1\n",
    "    else:                                                                       ## 1\n",
    "        mid = (low + high) // 2                                                 ## 1\n",
    "        left_low, left_high, left_sum = find_maximum_subarray(A, low, mid)      ## T(n/2)\n",
    "        right_low, right_high, right_sum = find_maximum_subarray(A, mid + 1, high)  ## T(n/2)\n",
    "        cross_low, cross_high, cross_sum = find_max_crossing_subarray(A, low, mid, high) ## theta(n)\n",
    "        if left_sum >= right_sum and left_sum >= cross_sum:                     ## 이하 theta(1)\n",
    "            return left_low, left_high, left_sum                                ## .\n",
    "        elif right_sum >= left_sum and right_sum >= cross_sum:                  ## .\n",
    "            return right_low, right_high, right_sum                             ## .\n",
    "        else:                                                                   ## .\n",
    "            return cross_low, cross_high, cross_sum                             ## .\n",
    "                                                                                ## => theta(n lgn)"
   ]
  },
  {
   "cell_type": "code",
   "execution_count": null,
   "metadata": {},
   "outputs": [],
   "source": [
    "def find_max_crossing_subarray(A, low, mid, high):\n",
    "    left_sum = float(\"-inf\")                            ## 1\n",
    "    sum = 0  ## temporary sum                           ## 1\n",
    "    for i = mid downto low:                             ## n/2\n",
    "        sum = sum + A[i]                                ##  \n",
    "        if sum > left_sum:                              ##\n",
    "            left_sum = sum                              ##\n",
    "            max_left = i                                ##\n",
    "            \n",
    "    right_sum = float(\"-inf\")                           ## 1\n",
    "    sum = 0  ## temporary sum                           ## 1\n",
    "    for j = mid + 1 to high:                            ## n/2\n",
    "        sum = sum + A[j]                                ##\n",
    "        if sum > right_sum                              ##\n",
    "            right_sum = sum                             ##\n",
    "            max_right = j                               ## => worst, best 모두 theta(n)\n",
    "    return max_left, max_right, (left_sum + right_sum)\n",
    "    "
   ]
  },
  {
   "cell_type": "markdown",
   "metadata": {},
   "source": [
    "## Quick Sort: best $\\theta(n{\\lg n})$, worst $\\theta(n^2)$\n",
    "1. worst case: partiton이 하나도 안되고, pivot값만 하나씩 빠짐.\n",
    "    + $T(n) = T(n-1) + T(0) + \\theta(n) = T(n-1) + \\theta(n)$\n",
    "    + 계산하면 $T(n) = \\theta(n^2)$\n",
    "        + insertion sort와 같고, 나아가 이미 정렬된 경우에도 $\\theta(n)$만큼의 시간이 걸린다는 점에서 매우 비효율적\n",
    "        \n",
    "\n",
    "2. best case: 정확히 2개씩 partition.\n",
    "    + $T(n) = 2T(n/2) = \\theta(n)$\n",
    "    + 계산하면 $T(n) = \\theta(n{\\lg n})$"
   ]
  },
  {
   "cell_type": "code",
   "execution_count": null,
   "metadata": {},
   "outputs": [],
   "source": [
    "def quick_sort(A, p, r):\n",
    "    if p < r:\n",
    "        q = partition(A, p, r) ## pivot의 인덱스.\n",
    "        quick_sort(A, p, q-1) ## pivot 기준 좌우 분할\n",
    "        quick_sort(A, q+1, r)\n",
    "\n",
    "def partition(A, p ,r):\n",
    "    pivot = A[r] ## set Pivot\n",
    "    i = p-1 ## pivot보다 작은 값을 넣기 위한 index\n",
    "    for j = p to r-1: #pivot과 비교될 값의 index\n",
    "        if A[j] <= pivot:\n",
    "            i = i + 1\n",
    "            exchange A[i] with A[j]\n",
    "    exchange A[i+1] with A[r] ## pivot을 배열의 한 가운데로 넣기\n",
    "    return i + 1 ## 최종적으로 pivot의 인덱스 반환"
   ]
  },
  {
   "cell_type": "markdown",
   "metadata": {},
   "source": [
    "### Randomized Quick Sort: `**Expected**` $\\theta(n{\\lg n})$"
   ]
  },
  {
   "cell_type": "code",
   "execution_count": null,
   "metadata": {},
   "outputs": [],
   "source": [
    "def randomized_quick_sort(A, p, r):\n",
    "    if p < r:\n",
    "        q = randomized_partition(A, p, r)\n",
    "        randomized_quick_sort(A, p, q-1) ## q는 파티션의 인덱스.\n",
    "        randomized_quick_sort(A, q+1, r)\n",
    "\n",
    "def randomized_partition(A, p, r):\n",
    "    i = random(p, r)\n",
    "    exchange A[r] with A[i] ## pivot으로 사용하기 위해서 맨 끝으로\n",
    "    return partition(A, p, r)\n",
    "\n",
    "def partition(A, p ,r):\n",
    "    pivot = A[r] ## set Pivot\n",
    "    i = p-1 ## pivot보다 작은 값을 넣기 위한 index\n",
    "    for j = p to r-1: #pivot과 비교될 값의 index\n",
    "        if A[j] <= pivot:\n",
    "            i = i + 1\n",
    "            exchange A[i] with A[j]\n",
    "    exchange A[i+1] with A[r] ## pivot을 배열의 한 가운데로 넣기\n",
    "    return i + 1 ## 최종적으로 pivot의 인덱스 반환"
   ]
  },
  {
   "cell_type": "markdown",
   "metadata": {},
   "source": [
    "## heap sort: $O(n{\\lg n})$\n",
    "+ build_max_heap: $O(n)$\n",
    "+ max_heapify: $O({\\lg n})$\n",
    "+ heap_sort = $O(n) + (n-1) * O({\\lg n})$"
   ]
  },
  {
   "cell_type": "code",
   "execution_count": null,
   "metadata": {},
   "outputs": [],
   "source": [
    "def heap_sort(A):\n",
    "    build_max_heap(A)                   ## O(n)\n",
    "    for i = A.length downto 2:          ## n = A.length\n",
    "        exchange A[1] with A[i]         ## .\n",
    "        A.heap_size = A.heap_size - 1   ## .\n",
    "        max_heapify(A, 1)               ## lg n => (n-1) * lg n \n",
    "                                        ## T(n) = O(n) + (n-1) * lg n\n",
    "                                        ##      = O(n lg n)"
   ]
  },
  {
   "cell_type": "code",
   "execution_count": null,
   "metadata": {},
   "outputs": [],
   "source": [
    "def build_max_heap(A):\n",
    "    A.heap_size = A.length\n",
    "    for i = (A.length // 2) downto 1:\n",
    "        max_heapify(A, i)               ## n calls of O(lg n)\n",
    "\n",
    "## Therefore, T(n) is roughly O(n lg n)\n",
    "## HOWEVER, tighter bound is O(n)"
   ]
  },
  {
   "cell_type": "code",
   "execution_count": null,
   "metadata": {},
   "outputs": [],
   "source": [
    "def max_heapify(A, i):\n",
    "    l = 2*i\n",
    "    r = 2*i + 1\n",
    "    if l <= A.heap_size and A[l] > A[i]:\n",
    "        largest = l\n",
    "    else : largest = i\n",
    "    if r <= A.heap_size and A[r] > A[largest]:\n",
    "        largest = r\n",
    "    if largest != i:\n",
    "        exchange A[i] with A[largest]\n",
    "        max_heapify(A,largest)\n",
    "\n",
    "## T(n) <= T(2n/3) + theta(1)\n",
    "## Therefore, T(n) = O(lg n)"
   ]
  },
  {
   "cell_type": "markdown",
   "metadata": {},
   "source": [
    "# 15.Dynamic Programming"
   ]
  },
  {
   "cell_type": "markdown",
   "metadata": {},
   "source": [
    "## 1)Cut-rod"
   ]
  },
  {
   "cell_type": "markdown",
   "metadata": {},
   "source": [
    "### brute-force cut_rod"
   ]
  },
  {
   "cell_type": "code",
   "execution_count": null,
   "metadata": {},
   "outputs": [],
   "source": [
    "def cut_rod(p, n): #p = pricetable, n= length\n",
    "    if n ==0:\n",
    "        return 0\n",
    "    q = float(\"-inf\")\n",
    "    for i = 1 to n:\n",
    "        q = max(q, p[i] + cut_rod(p, n-i))\n",
    "    return q"
   ]
  },
  {
   "cell_type": "markdown",
   "metadata": {},
   "source": [
    "### top-down cut_rod: $\\theta(n^2)$"
   ]
  },
  {
   "cell_type": "code",
   "execution_count": null,
   "metadata": {},
   "outputs": [],
   "source": [
    "def memoized_cut_rod(p, n): ## 메모장 만드는거 빼곤 크게 하는 일 X\n",
    "    let r[0...n] be a new array # memo!\n",
    "    for i = 0 to n:\n",
    "        r[i] = float(\"-inf\")\n",
    "    return memoized_cut_rod_aux(p, n, r)"
   ]
  },
  {
   "cell_type": "code",
   "execution_count": null,
   "metadata": {},
   "outputs": [],
   "source": [
    "def memoized_cut_rod_aux(p, n, r):\n",
    "    if r[n] >= 0:\n",
    "        return r[n]\n",
    "    else: \n",
    "        q = float(\"-inf\")\n",
    "        for i = 1 to n:\n",
    "            q = max(q, p[i] + memoized_cut_rod_aux(p, n-i, r))\n",
    "        r[n] = q\n",
    "        \n",
    "    return q"
   ]
  },
  {
   "cell_type": "markdown",
   "metadata": {},
   "source": [
    "### bottom-up cut_rod"
   ]
  },
  {
   "cell_type": "code",
   "execution_count": null,
   "metadata": {},
   "outputs": [],
   "source": [
    "def bottom_up_cut_rod(p, n):\n",
    "    let r[0...n]\n",
    "    r[0] = 0\n",
    "    for j = 1 to n:\n",
    "        q = float(\"-inf\") ## make memo\n",
    "        for i = 1 to j:\n",
    "            q = max(q, p[i] + r[j-i])\n",
    "        r[j] = q\n",
    "    return r[n]"
   ]
  },
  {
   "cell_type": "code",
   "execution_count": null,
   "metadata": {},
   "outputs": [],
   "source": [
    "def extended_bottom_up_cut_rod(p,n):\n",
    "    let r[0..n] and s[0..n]\n",
    "    r[0] = 0\n",
    "    for j = 1 to n:\n",
    "        q = float(\"-inf\") ##make memo\n",
    "        for i = 1 to j:\n",
    "            if q < p[i] + r[j-i]:\n",
    "                q = p[i] + r[j-i]\n",
    "                s[j] = i\n",
    "        r[j] = q\n",
    "\n",
    "    return r and s"
   ]
  },
  {
   "cell_type": "code",
   "execution_count": null,
   "metadata": {},
   "outputs": [],
   "source": [
    "def print_cut_rod(p, n):\n",
    "    (r, s) = extended_bottom_up_cut_rod(p, n)\n",
    "    while n > 0:\n",
    "        print(s[n])\n",
    "        n = n - s[n]"
   ]
  },
  {
   "cell_type": "markdown",
   "metadata": {},
   "source": [
    "## 2)Matrix chain Multiplication"
   ]
  },
  {
   "cell_type": "code",
   "execution_count": null,
   "metadata": {},
   "outputs": [],
   "source": [
    "def matrix_chain_order(p):\n",
    "    n = p.length-1 #행렬의 개수\n",
    "    let m[1~n, 1~n] and s[1~n-1, 2~n] #s=where to split\n",
    "    for i = 1 to n: ## 행렬 길이가 1이면, 무조건 0\n",
    "        m[i, i] = 0\n",
    "    for l = 2 to n:\n",
    "        for i = 1 to n-l+1:\n",
    "            j = i + l -1\n",
    "            m[i, j] = float(\"inf\")\n",
    "            for k = i to j-1:\n",
    "                q = m[i,k] + m[K+1, j] + (p_i-1, p_k, p_j)\n",
    "                if q < m[i,j]:\n",
    "                    m[i,j] = q\n",
    "                    s[i,j] = k\n",
    "    \n",
    "    return m and s"
   ]
  },
  {
   "cell_type": "code",
   "execution_count": null,
   "metadata": {},
   "outputs": [],
   "source": [
    "def print_optimal_parens(s, i, j):\n",
    "    if i == j:\n",
    "        print(A_i)\n",
    "    else:\n",
    "        print(\"(\")\n",
    "        print_optimal_parens(s, i, s[i,j])\n",
    "        print_optimal_parens(s, s[i,j]+1, j)\n",
    "        print(\")\")"
   ]
  }
 ],
 "metadata": {
  "kernelspec": {
   "display_name": "Python 3.9.13 ('base')",
   "language": "python",
   "name": "python3"
  },
  "language_info": {
   "codemirror_mode": {
    "name": "ipython",
    "version": 3
   },
   "file_extension": ".py",
   "mimetype": "text/x-python",
   "name": "python",
   "nbconvert_exporter": "python",
   "pygments_lexer": "ipython3",
   "version": "3.9.13"
  },
  "orig_nbformat": 4,
  "vscode": {
   "interpreter": {
    "hash": "055c0f8917b4a739ab86a73cdbb745b13690bcdf07c511a859b11c60e29df6f4"
   }
  }
 },
 "nbformat": 4,
 "nbformat_minor": 2
}

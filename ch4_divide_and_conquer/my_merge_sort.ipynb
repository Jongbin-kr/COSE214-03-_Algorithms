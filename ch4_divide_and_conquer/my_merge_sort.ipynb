{
 "cells": [
  {
   "cell_type": "code",
   "execution_count": 2,
   "metadata": {},
   "outputs": [],
   "source": [
    "\n",
    "def merge(A, p, q, r):\n",
    "    n1 = q- p + 1\n",
    "    n2 = r - q\n",
    "    \n",
    "    L = [0] * (n1 + 1)\n",
    "    R = [0] * (n2 + 1) \n",
    "    \n",
    "    for i in range(1, n1+1):\n",
    "        L[i] = A[p + i -1]\n",
    "    for j in range(1, n2 + 1):\n",
    "        R[j] = A[q+j]\n",
    "    \n",
    "    \n",
    "    i = 1\n",
    "    j = 1\n",
    "    \n",
    "    \n",
    "    for k in range(p, r + 1):\n",
    "        if L[i] <= R[j]:\n",
    "            A[k] = L[i]\n",
    "            i += 1\n",
    "            \n",
    "        else:\n",
    "            A[k] = R[j]\n",
    "            j += 1\n",
    "\n",
    "\n",
    "\n",
    "def merge_sort(A, p, r):\n",
    "    if p < r:\n",
    "       q = (p + r) // 2\n",
    "       merge_sort(A, p, q)\n",
    "       merge_sort(A, q+1, r)\n",
    "       merge(A, p, q, r) "
   ]
  },
  {
   "cell_type": "code",
   "execution_count": 6,
   "metadata": {},
   "outputs": [
    {
     "ename": "IndexError",
     "evalue": "list index out of range",
     "output_type": "error",
     "traceback": [
      "\u001b[1;31m---------------------------------------------------------------------------\u001b[0m",
      "\u001b[1;31mIndexError\u001b[0m                                Traceback (most recent call last)",
      "\u001b[1;32mc:\\Users\\dieyo\\OneDrive - 고려대학교\\2022-2\\4. 알고리즘_정순영\\구현\\merge_sort.ipynb 셀 2\u001b[0m in \u001b[0;36m<cell line: 3>\u001b[1;34m()\u001b[0m\n\u001b[0;32m      <a href='vscode-notebook-cell:/c%3A/Users/dieyo/OneDrive%20-%20%EA%B3%A0%EB%A0%A4%EB%8C%80%ED%95%99%EA%B5%90/2022-2/4.%20%EC%95%8C%EA%B3%A0%EB%A6%AC%EC%A6%98_%EC%A0%95%EC%88%9C%EC%98%81/%EA%B5%AC%ED%98%84/merge_sort.ipynb#W1sZmlsZQ%3D%3D?line=0'>1</a>\u001b[0m A \u001b[39m=\u001b[39m [\u001b[39m5\u001b[39m,\u001b[39m2\u001b[39m]\n\u001b[1;32m----> <a href='vscode-notebook-cell:/c%3A/Users/dieyo/OneDrive%20-%20%EA%B3%A0%EB%A0%A4%EB%8C%80%ED%95%99%EA%B5%90/2022-2/4.%20%EC%95%8C%EA%B3%A0%EB%A6%AC%EC%A6%98_%EC%A0%95%EC%88%9C%EC%98%81/%EA%B5%AC%ED%98%84/merge_sort.ipynb#W1sZmlsZQ%3D%3D?line=2'>3</a>\u001b[0m merge_sort(A, \u001b[39m0\u001b[39;49m, \u001b[39m1\u001b[39;49m)\n",
      "\u001b[1;32mc:\\Users\\dieyo\\OneDrive - 고려대학교\\2022-2\\4. 알고리즘_정순영\\구현\\merge_sort.ipynb 셀 2\u001b[0m in \u001b[0;36mmerge_sort\u001b[1;34m(A, p, r)\u001b[0m\n\u001b[0;32m     <a href='vscode-notebook-cell:/c%3A/Users/dieyo/OneDrive%20-%20%EA%B3%A0%EB%A0%A4%EB%8C%80%ED%95%99%EA%B5%90/2022-2/4.%20%EC%95%8C%EA%B3%A0%EB%A6%AC%EC%A6%98_%EC%A0%95%EC%88%9C%EC%98%81/%EA%B5%AC%ED%98%84/merge_sort.ipynb#W1sZmlsZQ%3D%3D?line=31'>32</a>\u001b[0m merge_sort(A, p, q)\n\u001b[0;32m     <a href='vscode-notebook-cell:/c%3A/Users/dieyo/OneDrive%20-%20%EA%B3%A0%EB%A0%A4%EB%8C%80%ED%95%99%EA%B5%90/2022-2/4.%20%EC%95%8C%EA%B3%A0%EB%A6%AC%EC%A6%98_%EC%A0%95%EC%88%9C%EC%98%81/%EA%B5%AC%ED%98%84/merge_sort.ipynb#W1sZmlsZQ%3D%3D?line=32'>33</a>\u001b[0m merge_sort(A, q\u001b[39m+\u001b[39m\u001b[39m1\u001b[39m, r)\n\u001b[1;32m---> <a href='vscode-notebook-cell:/c%3A/Users/dieyo/OneDrive%20-%20%EA%B3%A0%EB%A0%A4%EB%8C%80%ED%95%99%EA%B5%90/2022-2/4.%20%EC%95%8C%EA%B3%A0%EB%A6%AC%EC%A6%98_%EC%A0%95%EC%88%9C%EC%98%81/%EA%B5%AC%ED%98%84/merge_sort.ipynb#W1sZmlsZQ%3D%3D?line=33'>34</a>\u001b[0m merge(A, p, q, r)\n",
      "\u001b[1;32mc:\\Users\\dieyo\\OneDrive - 고려대학교\\2022-2\\4. 알고리즘_정순영\\구현\\merge_sort.ipynb 셀 2\u001b[0m in \u001b[0;36mmerge\u001b[1;34m(A, p, q, r)\u001b[0m\n\u001b[0;32m     <a href='vscode-notebook-cell:/c%3A/Users/dieyo/OneDrive%20-%20%EA%B3%A0%EB%A0%A4%EB%8C%80%ED%95%99%EA%B5%90/2022-2/4.%20%EC%95%8C%EA%B3%A0%EB%A6%AC%EC%A6%98_%EC%A0%95%EC%88%9C%EC%98%81/%EA%B5%AC%ED%98%84/merge_sort.ipynb#W1sZmlsZQ%3D%3D?line=16'>17</a>\u001b[0m j \u001b[39m=\u001b[39m \u001b[39m1\u001b[39m\n\u001b[0;32m     <a href='vscode-notebook-cell:/c%3A/Users/dieyo/OneDrive%20-%20%EA%B3%A0%EB%A0%A4%EB%8C%80%ED%95%99%EA%B5%90/2022-2/4.%20%EC%95%8C%EA%B3%A0%EB%A6%AC%EC%A6%98_%EC%A0%95%EC%88%9C%EC%98%81/%EA%B5%AC%ED%98%84/merge_sort.ipynb#W1sZmlsZQ%3D%3D?line=19'>20</a>\u001b[0m \u001b[39mfor\u001b[39;00m k \u001b[39min\u001b[39;00m \u001b[39mrange\u001b[39m(p, r \u001b[39m+\u001b[39m \u001b[39m1\u001b[39m):\n\u001b[1;32m---> <a href='vscode-notebook-cell:/c%3A/Users/dieyo/OneDrive%20-%20%EA%B3%A0%EB%A0%A4%EB%8C%80%ED%95%99%EA%B5%90/2022-2/4.%20%EC%95%8C%EA%B3%A0%EB%A6%AC%EC%A6%98_%EC%A0%95%EC%88%9C%EC%98%81/%EA%B5%AC%ED%98%84/merge_sort.ipynb#W1sZmlsZQ%3D%3D?line=20'>21</a>\u001b[0m     \u001b[39mif\u001b[39;00m L[i] \u001b[39m<\u001b[39m\u001b[39m=\u001b[39m R[j]:\n\u001b[0;32m     <a href='vscode-notebook-cell:/c%3A/Users/dieyo/OneDrive%20-%20%EA%B3%A0%EB%A0%A4%EB%8C%80%ED%95%99%EA%B5%90/2022-2/4.%20%EC%95%8C%EA%B3%A0%EB%A6%AC%EC%A6%98_%EC%A0%95%EC%88%9C%EC%98%81/%EA%B5%AC%ED%98%84/merge_sort.ipynb#W1sZmlsZQ%3D%3D?line=21'>22</a>\u001b[0m         A[k] \u001b[39m=\u001b[39m L[i]\n\u001b[0;32m     <a href='vscode-notebook-cell:/c%3A/Users/dieyo/OneDrive%20-%20%EA%B3%A0%EB%A0%A4%EB%8C%80%ED%95%99%EA%B5%90/2022-2/4.%20%EC%95%8C%EA%B3%A0%EB%A6%AC%EC%A6%98_%EC%A0%95%EC%88%9C%EC%98%81/%EA%B5%AC%ED%98%84/merge_sort.ipynb#W1sZmlsZQ%3D%3D?line=22'>23</a>\u001b[0m         i \u001b[39m+\u001b[39m\u001b[39m=\u001b[39m \u001b[39m1\u001b[39m\n",
      "\u001b[1;31mIndexError\u001b[0m: list index out of range"
     ]
    }
   ],
   "source": [
    "A = [5,2]\n",
    "\n",
    "merge_sort(A, 0, 1)"
   ]
  },
  {
   "cell_type": "code",
   "execution_count": 9,
   "metadata": {},
   "outputs": [
    {
     "data": {
      "text/plain": [
       "[1, 2, 5]"
      ]
     },
     "execution_count": 9,
     "metadata": {},
     "output_type": "execute_result"
    }
   ],
   "source": [
    "aa = [1,2]\n",
    "bb = [3,4]\n",
    "\n",
    "\n",
    "aa  += [5]\n",
    "aa"
   ]
  }
 ],
 "metadata": {
  "kernelspec": {
   "display_name": "Python 3.10.7 64-bit",
   "language": "python",
   "name": "python3"
  },
  "language_info": {
   "codemirror_mode": {
    "name": "ipython",
    "version": 3
   },
   "file_extension": ".py",
   "mimetype": "text/x-python",
   "name": "python",
   "nbconvert_exporter": "python",
   "pygments_lexer": "ipython3",
   "version": "3.10.7"
  },
  "orig_nbformat": 4,
  "vscode": {
   "interpreter": {
    "hash": "4afb0e4cf0ccb304fcfd6d7aabde069b35f9fca2102756c46539c1049f0d322d"
   }
  }
 },
 "nbformat": 4,
 "nbformat_minor": 2
}

{
 "cells": [
  {
   "cell_type": "markdown",
   "metadata": {},
   "source": [
    "Assignment #4\n",
    "n \n",
    "\n",
    "+ “Huffman codes”생성하는 프로그램을 아래 지시 사항에 따라 작성하시오. \n",
    "    + 작성하는 프로그램은 greedy algorithm 기법을 기반으로 작성하시오. \n",
    "    + 필요한 자료구조 “min-priority queue”와 이와 관련된 EXTRACT-MIN(), INSERT()함수는 모두 직접 만들어 사용하시오. \n",
    "    + 구현 언어는 WithCS에서 제공하는 언어 중 하나를 선택하여 구현하시오.(외부 라이브러리는 사용하지 마시오.)\n",
    "\n",
    "※ 제출한 소스 코드는 표절 검사를 통해 표절을 확인할 예정이니 타 학생의 코드나 인터넷 상의 코드를 활용하지 말고 본인이 직접 코딩하여야 합니다. \n",
    "\n",
    "\n",
    "1. 제출마감 ~ 11. 17.(Thu), 15:30\n",
    "\n",
    "2. 제출방법 \n",
    "    - WithCS에 제출\n",
    "    - WithCS에 제출한 소스 코드를 “KULMS 과제”에 제출\n",
    "    \n",
    "3. 지각제출 감점기준\n",
    "    - 제출 마감 이후 1주일 이내 제출 시 만점 기준 20% 감점. 그 후 매 1주단위로 만점 기준 20% 감점\n",
    "    - 최종 마감일 : 12. 01. 15:30"
   ]
  },
  {
   "cell_type": "code",
   "execution_count": 120,
   "metadata": {},
   "outputs": [
    {
     "name": "stdout",
     "output_type": "stream",
     "text": [
      "raw_arr: ['x', 7, 6, 5, 4, 3, 2, 1]\n",
      "min_heapifiy: ['x', 7, 6, 1, 4, 3, 2, 5]\n",
      "min_heapifiy: ['x', 7, 6, 1, 4, 3, 2, 5]\n",
      "min_heapifiy: ['x', 7, 3, 1, 4, 6, 2, 5]\n",
      "min_heapifiy: ['x', 7, 3, 1, 4, 6, 2, 5]\n",
      "min_heapifiy: ['x', 1, 3, 2, 4, 6, 7, 5]\n",
      "min_heapifiy: ['x', 1, 3, 2, 4, 6, 7, 5]\n",
      "min_heapifiy: ['x', 1, 3, 2, 4, 6, 7, 5]\n"
     ]
    },
    {
     "data": {
      "text/plain": [
       "['x', 1, 3, 2, 4, 6, 7, 5]"
      ]
     },
     "execution_count": 120,
     "metadata": {},
     "output_type": "execute_result"
    }
   ],
   "source": [
    "class Min_heap():\n",
    "    def __init__(self, array):\n",
    "        self.arr = array\n",
    "        self.heap_size = len(self.arr) - 1\n",
    "        print('raw_arr:', self.arr)\n",
    "    \n",
    "    def build_min_heap(self):\n",
    "        for i in range(1, (self.heap_size//2)+1)[::-1]: ## index값을 1부터 사용\n",
    "            self.min_heapify(i)\n",
    "            \n",
    "        return self\n",
    "    \n",
    "    def min_heapify(self, i):\n",
    "        l = (2 * i)   ## left\n",
    "        r = (2 * i) + 1       ## right\n",
    "        self.smallest_index = i\n",
    "        if l <= self.heap_size and self.arr[l] < self.arr[i]:\n",
    "            self.smallest_index = l\n",
    "        else: \n",
    "            self.smallest_index = i\n",
    "        \n",
    "        if r <= self.heap_size and self.arr[r] < self.arr[self.smallest_index]:\n",
    "            self.smallest_index = r\n",
    "        \n",
    "        if self.smallest_index != i:\n",
    "            self.arr[i], self.arr[self.smallest_index] = self.arr[self.smallest_index], self.arr[i] ## swapping ㅗㅜㅑ\n",
    "            self.min_heapify(self.smallest_index)\n",
    "            \n",
    "        print('min_heapifiy:', self.arr)\n",
    "\n",
    "\n",
    "        \n",
    "a = ['x', 7,6,5,4,3,2,1]\n",
    "h = Min_heap(a)\n",
    "min= h.build_min_heap()\n",
    "\n",
    "min.arr"
   ]
  },
  {
   "cell_type": "code",
   "execution_count": 124,
   "metadata": {},
   "outputs": [
    {
     "name": "stdout",
     "output_type": "stream",
     "text": [
      "raw_arr: ['x', 9, 6, 3, 2]\n",
      "min_heapifiy: ['x', 9, 2, 3, 6]\n",
      "min_heapifiy: ['x', 9, 2, 3, 6]\n",
      "min_heapifiy: ['x', 2, 6, 3, 9]\n",
      "min_heapifiy: ['x', 2, 6, 3, 9]\n",
      "min_heapifiy: ['x', 2, 6, 3, 9]\n",
      "['x', 2, 6, 3, 9]\n",
      "['x', -10, 6, 2, 9]\n",
      "['x', -10, -2, 2, 9, 6]\n"
     ]
    }
   ],
   "source": [
    "class Min_priority_que(Min_heap):\n",
    "    \n",
    "    def return_minimum_value(self):\n",
    "        print(self.arr[1])\n",
    "        return self.arr[1]\n",
    "    \n",
    "    def return_min_heap_extract(self):\n",
    "        if self.heap_size < 1:\n",
    "            print(\"!! heap underflow !!\")\n",
    "            return None\n",
    "        min = self.arr[1]\n",
    "        self.arr[1] = self.arr[self.heap_size] ## 맨 위 노드와 맨 아래 노드 바꾸기\n",
    "        self.heap_size -= 1\n",
    "        self.arr = self.arr[:-1]\n",
    "        self.min_heapify(1)\n",
    "        return min\n",
    "    \n",
    "    def min_heap_decrease_key(self, i, new_value): ## i는 value를 증가시킬 target의 index\n",
    "        \n",
    "        if new_value > self.arr[i]:\n",
    "            print(\"Current value is already smaller than new value\")\n",
    "            return\n",
    "        self.arr[i] = new_value\n",
    "        while i > 1 and self.arr[i // 2] > self.arr[i]:\n",
    "            self.arr[i], self.arr[i // 2] = self.arr[i // 2], self.arr[i]\n",
    "            i = i // 2\n",
    "            \n",
    "\n",
    "            \n",
    "    \n",
    "    def min_heap_insert(self, key):\n",
    "        self.heap_size += 1\n",
    "        self.arr += [0]\n",
    "        self.arr[self.heap_size] = float(\"inf\")\n",
    "        self.min_heap_decrease_key(self.heap_size, key)\n",
    "\n",
    "\n",
    "\n",
    "        \n",
    "q = Min_priority_que(['x', 9,6,3,2])\n",
    "q.build_min_heap() \n",
    "\n",
    "print(q.arr)\n",
    "\n",
    "q.min_heap_decrease_key(3, -10)\n",
    "print(q.arr)\n",
    "\n",
    "q.min_heap_insert(-2)\n",
    "print(q.arr)"
   ]
  },
  {
   "cell_type": "code",
   "execution_count": 122,
   "metadata": {},
   "outputs": [],
   "source": [
    "class Huff_node():\n",
    "    left = 0\n",
    "    right = 0\n",
    "    freq = 0\n",
    "        \n",
    "    \n",
    "    def get_code(self):\n",
    "         pass"
   ]
  },
  {
   "cell_type": "code",
   "execution_count": 123,
   "metadata": {},
   "outputs": [
    {
     "name": "stdout",
     "output_type": "stream",
     "text": [
      "['X', 4, 3, 2, 1]\n"
     ]
    }
   ],
   "source": [
    "input_n = int(input())\n",
    "\n",
    "value_list = [0] * input_n\n",
    "for i in range(input_n):\n",
    "    value_list[i] = int(input())\n",
    "\n",
    "value_list.insert(0, 'X')\n",
    "\n",
    "print(value_list)"
   ]
  },
  {
   "cell_type": "code",
   "execution_count": 117,
   "metadata": {},
   "outputs": [
    {
     "name": "stdout",
     "output_type": "stream",
     "text": [
      "raw_arr: ['X', 4, 3, 2, 1]\n",
      "=== Min_priority Q:  ['X', 1, 3, 2, 4] ===\n"
     ]
    },
    {
     "ename": "TypeError",
     "evalue": "'<' not supported between instances of 'int' and 'Huff_node'",
     "output_type": "error",
     "traceback": [
      "\u001b[1;31m---------------------------------------------------------------------------\u001b[0m",
      "\u001b[1;31mTypeError\u001b[0m                                 Traceback (most recent call last)",
      "Cell \u001b[1;32mIn [117], line 6\u001b[0m\n\u001b[0;32m      4\u001b[0m \u001b[39mfor\u001b[39;00m i \u001b[39min\u001b[39;00m \u001b[39mrange\u001b[39m(\u001b[39m1\u001b[39m, min_que\u001b[39m.\u001b[39mheap_size\u001b[39m-\u001b[39m\u001b[39m1\u001b[39m):\n\u001b[0;32m      5\u001b[0m     h \u001b[39m=\u001b[39m Huff_node()\n\u001b[1;32m----> 6\u001b[0m     l \u001b[39m=\u001b[39m h\u001b[39m.\u001b[39mleft \u001b[39m=\u001b[39m min_que\u001b[39m.\u001b[39;49mreturn_min_heap_extract()\n\u001b[0;32m      7\u001b[0m     r \u001b[39m=\u001b[39m h\u001b[39m.\u001b[39mright \u001b[39m=\u001b[39m min_que\u001b[39m.\u001b[39mreturn_min_heap_extract()\n\u001b[0;32m      8\u001b[0m     h\u001b[39m.\u001b[39mfreq \u001b[39m=\u001b[39m l \u001b[39m+\u001b[39m r\n",
      "Cell \u001b[1;32mIn [114], line 15\u001b[0m, in \u001b[0;36mMin_priority_que.return_min_heap_extract\u001b[1;34m(self)\u001b[0m\n\u001b[0;32m     13\u001b[0m \u001b[39mself\u001b[39m\u001b[39m.\u001b[39mheap_size \u001b[39m-\u001b[39m\u001b[39m=\u001b[39m \u001b[39m1\u001b[39m\n\u001b[0;32m     14\u001b[0m \u001b[39mself\u001b[39m\u001b[39m.\u001b[39marr \u001b[39m=\u001b[39m \u001b[39mself\u001b[39m\u001b[39m.\u001b[39marr[:\u001b[39m-\u001b[39m\u001b[39m1\u001b[39m]\n\u001b[1;32m---> 15\u001b[0m \u001b[39mself\u001b[39;49m\u001b[39m.\u001b[39;49mmin_heapify(\u001b[39m1\u001b[39;49m)\n\u001b[0;32m     16\u001b[0m \u001b[39mreturn\u001b[39;00m \u001b[39mmin\u001b[39m\n",
      "Cell \u001b[1;32mIn [113], line 18\u001b[0m, in \u001b[0;36mMin_heap.min_heapify\u001b[1;34m(self, i)\u001b[0m\n\u001b[0;32m     16\u001b[0m r \u001b[39m=\u001b[39m (\u001b[39m2\u001b[39m \u001b[39m*\u001b[39m i) \u001b[39m+\u001b[39m \u001b[39m1\u001b[39m       \u001b[39m## right\u001b[39;00m\n\u001b[0;32m     17\u001b[0m \u001b[39mself\u001b[39m\u001b[39m.\u001b[39msmallest_index \u001b[39m=\u001b[39m i\n\u001b[1;32m---> 18\u001b[0m \u001b[39mif\u001b[39;00m l \u001b[39m<\u001b[39m\u001b[39m=\u001b[39m \u001b[39mself\u001b[39m\u001b[39m.\u001b[39mheap_size \u001b[39mand\u001b[39;00m \u001b[39mself\u001b[39;49m\u001b[39m.\u001b[39;49marr[l] \u001b[39m<\u001b[39;49m \u001b[39mself\u001b[39;49m\u001b[39m.\u001b[39;49marr[i]:\n\u001b[0;32m     19\u001b[0m     \u001b[39mself\u001b[39m\u001b[39m.\u001b[39msmallest_index \u001b[39m=\u001b[39m l\n\u001b[0;32m     20\u001b[0m \u001b[39melse\u001b[39;00m: \n",
      "\u001b[1;31mTypeError\u001b[0m: '<' not supported between instances of 'int' and 'Huff_node'"
     ]
    }
   ],
   "source": [
    "min_que = Min_priority_que(value_list).build_min_heap()\n",
    "print(\"=== Min_priority Q: \", min_que.arr, \"===\")\n",
    "\n",
    "for i in range(1, min_que.heap_size-1):\n",
    "    h = Huff_node()\n",
    "    l = h.left = min_que.return_min_heap_extract()\n",
    "    r = h.right = min_que.return_min_heap_extract()\n",
    "    h.freq = l + r\n",
    "    min_que.min_heap_insert(h)\n",
    "\n",
    "print(min_que.arr)\n"
   ]
  }
 ],
 "metadata": {
  "kernelspec": {
   "display_name": "Python 3.10.7 64-bit",
   "language": "python",
   "name": "python3"
  },
  "language_info": {
   "codemirror_mode": {
    "name": "ipython",
    "version": 3
   },
   "file_extension": ".py",
   "mimetype": "text/x-python",
   "name": "python",
   "nbconvert_exporter": "python",
   "pygments_lexer": "ipython3",
   "version": "3.10.7"
  },
  "orig_nbformat": 4,
  "vscode": {
   "interpreter": {
    "hash": "4afb0e4cf0ccb304fcfd6d7aabde069b35f9fca2102756c46539c1049f0d322d"
   }
  }
 },
 "nbformat": 4,
 "nbformat_minor": 2
}

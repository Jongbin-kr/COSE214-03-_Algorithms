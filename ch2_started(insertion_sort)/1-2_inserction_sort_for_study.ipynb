{
 "cells": [
  {
   "cell_type": "code",
   "execution_count": 9,
   "metadata": {},
   "outputs": [
    {
     "name": "stdout",
     "output_type": "stream",
     "text": [
      "--j value: 1    key: 4\n",
      "i valeu: 0    A: [5, 5, 3, 2, 1, 0]\n",
      "[4, 5, 3, 2, 1, 0]\n",
      "--j value: 2    key: 3\n",
      "i valeu: 1    A: [4, 5, 5, 2, 1, 0]\n",
      "i valeu: 0    A: [4, 4, 5, 2, 1, 0]\n",
      "[3, 4, 5, 2, 1, 0]\n",
      "--j value: 3    key: 2\n",
      "i valeu: 2    A: [3, 4, 5, 5, 1, 0]\n",
      "i valeu: 1    A: [3, 4, 4, 5, 1, 0]\n",
      "i valeu: 0    A: [3, 3, 4, 5, 1, 0]\n",
      "[2, 3, 4, 5, 1, 0]\n",
      "--j value: 4    key: 1\n",
      "i valeu: 3    A: [2, 3, 4, 5, 5, 0]\n",
      "i valeu: 2    A: [2, 3, 4, 4, 5, 0]\n",
      "i valeu: 1    A: [2, 3, 3, 4, 5, 0]\n",
      "i valeu: 0    A: [2, 2, 3, 4, 5, 0]\n",
      "[1, 2, 3, 4, 5, 0]\n",
      "--j value: 5    key: 0\n",
      "i valeu: 4    A: [1, 2, 3, 4, 5, 5]\n",
      "i valeu: 3    A: [1, 2, 3, 4, 4, 5]\n",
      "i valeu: 2    A: [1, 2, 3, 3, 4, 5]\n",
      "i valeu: 1    A: [1, 2, 2, 3, 4, 5]\n",
      "i valeu: 0    A: [1, 1, 2, 3, 4, 5]\n",
      "[0, 1, 2, 3, 4, 5]\n",
      "[0, 1, 2, 3, 4, 5]\n"
     ]
    }
   ],
   "source": [
    "A = [5,4,3,2,1,0]\n",
    "\n",
    "for j in range(1, len(A)):\n",
    "    key = A[j]\n",
    "    print(\"--j value:\", j, \"   key:\", key)\n",
    "    i = j -1\n",
    "    while i >= 0 and A[i] > key:\n",
    "        A[i+1] = A[i]\n",
    "        print(\"i valeu:\", i, \"   A:\", A)\n",
    "        i -= 1\n",
    "    A[i+1] = key\n",
    "    print(A)\n",
    "print(A)"
   ]
  }
 ],
 "metadata": {
  "kernelspec": {
   "display_name": "Python 3.10.7 64-bit",
   "language": "python",
   "name": "python3"
  },
  "language_info": {
   "codemirror_mode": {
    "name": "ipython",
    "version": 3
   },
   "file_extension": ".py",
   "mimetype": "text/x-python",
   "name": "python",
   "nbconvert_exporter": "python",
   "pygments_lexer": "ipython3",
   "version": "3.10.7"
  },
  "orig_nbformat": 4,
  "vscode": {
   "interpreter": {
    "hash": "4afb0e4cf0ccb304fcfd6d7aabde069b35f9fca2102756c46539c1049f0d322d"
   }
  }
 },
 "nbformat": 4,
 "nbformat_minor": 2
}

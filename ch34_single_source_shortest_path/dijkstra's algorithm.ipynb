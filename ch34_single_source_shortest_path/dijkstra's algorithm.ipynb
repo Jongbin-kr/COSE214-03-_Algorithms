{
 "cells": [
  {
   "cell_type": "markdown",
   "metadata": {},
   "source": [
    "(교재 24.3장)\n",
    "\n",
    "Dijkstra's algorithm을 구현하여, source node A에서부터 다른 노드 (A포함)로 가는 최소 방문 cost를 모두 출력하는 코드를 작성하시오.\n",
    "\n",
    "*주의사항\n",
    "\n",
    "1. Python으로 작성하는 경우, 인풋 첫번째 줄처럼 숫자가 아닌 string을 입력받기 위해서는 raw_input 사용 \n",
    "\n",
    "2. Min-priority queue는 직접 구현하여 사용 (단, DECREASE-KEY operation에 유의)\n",
    "\n",
    "------\n",
    "\n",
    "INPUT\n",
    "\n",
    "Line 0: names of vertices, separated by comma  ex) A,B,C,D,E,F,G (sorted alphabetically)\n",
    "\n",
    "Line 1: the number of edges n\n",
    "\n",
    "Line 2~(n+1): one edge per line, edge = (vertex_from,vertex_to,weight)\n",
    "\n",
    "\n",
    "---------\n",
    "\n",
    "OUTPUT\n",
    "\n",
    "\n",
    "Line 0: shortest path distance from A to A\n",
    "\n",
    "Line 1: shortest path distance from A to B\n",
    "\n",
    "Line 2: shortest path distance from A to C\n",
    "\n",
    "...\n",
    "\n",
    "\n",
    "------\n",
    "\n",
    "SAMPLE INPUT\n",
    "\n",
    "\n",
    "A,B,C,D,E\n",
    "\n",
    "10\n",
    "\n",
    "A,B,10\n",
    "\n",
    "A,C,5\n",
    "\n",
    "B,C,2\n",
    "\n",
    "B,D,1\n",
    "\n",
    "C,B,3\n",
    "\n",
    "C,D,9\n",
    "\n",
    "C,E,2\n",
    "\n",
    "D,E,4\n",
    "\n",
    "E,A,7\n",
    "\n",
    "E,D,6\n",
    "\n",
    "\n",
    "\n",
    "---------\n",
    "SAMPLE OUTPUT\n",
    "\n",
    "\n",
    "0\n",
    "\n",
    "8\n",
    "\n",
    "5\n",
    "\n",
    "9\n",
    "\n",
    "7\n"
   ]
  },
  {
   "cell_type": "code",
   "execution_count": 1,
   "metadata": {},
   "outputs": [],
   "source": [
    "## graph node with distance and predecessor\n",
    "class Graph_node():\n",
    "    \n",
    "    def __init__(self, vertex_name):\n",
    "        self.vertex_name = vertex_name\n",
    "        self.edge_dict = {} ## dest: dist\n",
    "        self.pred = '' ## predecessor vertex name for min_distance\n",
    "        self.min_dist = 0\n"
   ]
  },
  {
   "cell_type": "code",
   "execution_count": 2,
   "metadata": {},
   "outputs": [],
   "source": [
    "## min-priority que \n",
    "\n",
    "class Min_heap():\n",
    "    def __init__(self, graph_node_list):\n",
    "        self.arr = graph_node_list\n",
    "        self.heap_size = len(self.arr) -1 ## -1 because index 0 in node list is 'X'. we don't use the zero-index value.\n",
    "\n",
    "    def return_build_min_heap(self):\n",
    "        for i in range(1, (self.heap_size//2)+1)[::-1]:\n",
    "            self.min_heapify(i)\n",
    "        return self\n",
    "    \n",
    "    def min_heapify(self, i):\n",
    "        smallest = i\n",
    "        l = (2 * i)\n",
    "        r = (2 * i) + 1\n",
    "        \n",
    "        if l < self.heap_size and self.arr[l].min_dist < self.arr[i].min_dist:\n",
    "            smallest = l\n",
    "        \n",
    "        if r <= self.heap_size and self.arr[r].min_dist < self.arr[smallest].min_dist:\n",
    "            smallest = r\n",
    "        \n",
    "        if smallest != i:\n",
    "            self.arr[i], self.arr[smallest] = self.arr[smallest], self.arr[i] ## swapping\n",
    "            self.min_heapify(smallest)\n",
    "            \n",
    "                  \n",
    "class Min_priority_que(Min_heap):\n",
    "\n",
    "    def return_min_heap_extract(self):       \n",
    "        min_node = self.arr[1]\n",
    "        self.arr[1] = self.arr[self.heap_size] ## input the largest node into first index to min heapify\n",
    "        self.heap_size -= 1\n",
    "        self.min_heapify(1)\n",
    "        return min_node\n",
    "        \n",
    "        "
   ]
  },
  {
   "cell_type": "code",
   "execution_count": 3,
   "metadata": {},
   "outputs": [],
   "source": [
    "## input graph nodes' name, create graph nodes and append them into graph node list\n",
    "input_vertex_name_list = input().split(',')\n",
    "graph_node_list = ['X'] ## we don't use index number 0.\n",
    "for vertex_name in input_vertex_name_list:\n",
    "    new_node = Graph_node(vertex_name)\n",
    "    graph_node_list.append(new_node)\n",
    "\n",
    "## input how many edges, update edge info to the source graph node\n",
    "input_how_many_edges = int(input())\n",
    "for i in range(input_how_many_edges):\n",
    "    src, dest, dist = input().split(',')\n",
    "    \n",
    "    for i in range(1, len(graph_node_list)):\n",
    "        if src == graph_node_list[i].vertex_name:\n",
    "            graph_node_list[i].edge_dict[dest] = int(dist)\n",
    "    "
   ]
  },
  {
   "cell_type": "code",
   "execution_count": 4,
   "metadata": {},
   "outputs": [
    {
     "name": "stdout",
     "output_type": "stream",
     "text": [
      "['X', <__main__.Graph_node object at 0x000001721F4895D0>, <__main__.Graph_node object at 0x000001721F1E8290>, <__main__.Graph_node object at 0x000001721F4D8C90>, <__main__.Graph_node object at 0x000001721F4DA950>, <__main__.Graph_node object at 0x000001721F4DAB90>]\n",
      "A 0  {'B': 10, 'C': 5}\n",
      "B 0  {'C': 2, 'D': 1}\n",
      "C 0  {'B': 3, 'D': 9, 'E': 2}\n",
      "D 0  {'E': 4}\n",
      "E 0  {'A': 7, 'D': 6}\n"
     ]
    }
   ],
   "source": [
    "print(graph_node_list)\n",
    "for x in graph_node_list[1:]:\n",
    "    print(\n",
    "        x.vertex_name,\n",
    "        x.min_dist,\n",
    "        x.pred,\n",
    "        x.edge_dict\n",
    "    )"
   ]
  },
  {
   "cell_type": "code",
   "execution_count": 5,
   "metadata": {},
   "outputs": [],
   "source": [
    "## initialize\n",
    "for graph_node in graph_node_list[1:]:\n",
    "    graph_node.min_dist = float(\"inf\")\n",
    "    graph_node.pred = 'NIL'\n",
    "graph_node_list[1].min_dist = 0 ## we just follow the vertex name input order. Therefore, source node is the first node."
   ]
  },
  {
   "cell_type": "code",
   "execution_count": 6,
   "metadata": {},
   "outputs": [
    {
     "name": "stdout",
     "output_type": "stream",
     "text": [
      "['X', <__main__.Graph_node object at 0x000001721F4895D0>, <__main__.Graph_node object at 0x000001721F1E8290>, <__main__.Graph_node object at 0x000001721F4D8C90>, <__main__.Graph_node object at 0x000001721F4DA950>, <__main__.Graph_node object at 0x000001721F4DAB90>]\n",
      "A 0 NIL {'B': 10, 'C': 5}\n",
      "B inf NIL {'C': 2, 'D': 1}\n",
      "C inf NIL {'B': 3, 'D': 9, 'E': 2}\n",
      "D inf NIL {'E': 4}\n",
      "E inf NIL {'A': 7, 'D': 6}\n"
     ]
    }
   ],
   "source": [
    "print(graph_node_list)\n",
    "for x in graph_node_list[1:]:\n",
    "    print(\n",
    "        x.vertex_name,\n",
    "        x.min_dist,\n",
    "        x.pred,\n",
    "        x.edge_dict\n",
    "    )"
   ]
  },
  {
   "cell_type": "code",
   "execution_count": 7,
   "metadata": {},
   "outputs": [
    {
     "name": "stdout",
     "output_type": "stream",
     "text": [
      "['X', <__main__.Graph_node object at 0x000001721F4895D0>, <__main__.Graph_node object at 0x000001721F1E8290>, <__main__.Graph_node object at 0x000001721F4D8C90>, <__main__.Graph_node object at 0x000001721F4DA950>, <__main__.Graph_node object at 0x000001721F4DAB90>]\n",
      "['X', <__main__.Graph_node object at 0x000001721F4895D0>, <__main__.Graph_node object at 0x000001721F1E8290>, <__main__.Graph_node object at 0x000001721F4D8C90>, <__main__.Graph_node object at 0x000001721F4DA950>, <__main__.Graph_node object at 0x000001721F4DAB90>]\n"
     ]
    }
   ],
   "source": [
    "s = set() ## set for the processed graph node\n",
    "\n",
    "## let's build min-que with node_list\n",
    "h = Min_priority_que(graph_node_list)\n",
    "print(h.arr)\n",
    "q = h.return_build_min_heap()\n",
    "print(q.arr)"
   ]
  },
  {
   "cell_type": "code",
   "execution_count": 8,
   "metadata": {},
   "outputs": [
    {
     "name": "stdout",
     "output_type": "stream",
     "text": [
      "['X', <__main__.Graph_node object at 0x000001721F4895D0>, <__main__.Graph_node object at 0x000001721F1E8290>, <__main__.Graph_node object at 0x000001721F4D8C90>, <__main__.Graph_node object at 0x000001721F4DA950>, <__main__.Graph_node object at 0x000001721F4DAB90>]\n",
      "A 0 NIL {'B': 10, 'C': 5}\n",
      "B inf NIL {'C': 2, 'D': 1}\n",
      "C inf NIL {'B': 3, 'D': 9, 'E': 2}\n",
      "D inf NIL {'E': 4}\n",
      "E inf NIL {'A': 7, 'D': 6}\n"
     ]
    }
   ],
   "source": [
    "print(graph_node_list)\n",
    "for x in graph_node_list[1:]:\n",
    "    print(\n",
    "        x.vertex_name,\n",
    "        x.min_dist,\n",
    "        x.pred,\n",
    "        x.edge_dict\n",
    "    )"
   ]
  },
  {
   "cell_type": "code",
   "execution_count": 9,
   "metadata": {},
   "outputs": [],
   "source": [
    "def relax(min_node):  ## u == src, v == dest in adjacent nodes, w == edge weight of u~v\n",
    "    adj_node_names = list(min_node.edge_dict)\n",
    "    \n",
    "    ## for each vertext in G.Adj[u] implementation\n",
    "    adj_node_list = []\n",
    "    for adj_node_name in adj_node_names:\n",
    "        for i in range(1, len(q.arr)):\n",
    "            if adj_node_name == q.arr[i].vertex_name:\n",
    "                adj_node_list.append(q.arr[i])\n",
    "        \n",
    "    for adj_node in adj_node_list:\n",
    "    ## actual relaxation process\n",
    "        if adj_node.min_dist > min_node.min_dist + min_node.edge_dict[adj_node.vertex_name]:\n",
    "            adj_node.min_dist = min_node.min_dist + min_node.edge_dict[adj_node.vertex_name]\n",
    "            adj_node.pred = min_node\n",
    "    "
   ]
  },
  {
   "cell_type": "code",
   "execution_count": 10,
   "metadata": {},
   "outputs": [
    {
     "name": "stdout",
     "output_type": "stream",
     "text": [
      "<__main__.Graph_node object at 0x000001721F4895D0>\n",
      "<__main__.Graph_node object at 0x000001721F4DAB90>\n",
      "<__main__.Graph_node object at 0x000001721F4D8C90>\n",
      "<__main__.Graph_node object at 0x000001721F4DA950>\n",
      "<__main__.Graph_node object at 0x000001721F1E8290>\n"
     ]
    }
   ],
   "source": [
    "for n in range(1, len(q.arr)):\n",
    "    min_node = q.return_min_heap_extract()\n",
    "    print(min_node)\n",
    "    s = s | {min_node}\n",
    "    relax(min_node)"
   ]
  },
  {
   "cell_type": "code",
   "execution_count": 11,
   "metadata": {},
   "outputs": [
    {
     "name": "stdout",
     "output_type": "stream",
     "text": [
      "{<__main__.Graph_node object at 0x000001721F4D8C90>, <__main__.Graph_node object at 0x000001721F4DA950>, <__main__.Graph_node object at 0x000001721F4DAB90>, <__main__.Graph_node object at 0x000001721F4895D0>, <__main__.Graph_node object at 0x000001721F1E8290>}\n",
      "C 5 <__main__.Graph_node object at 0x000001721F4895D0> {'B': 3, 'D': 9, 'E': 2}\n",
      "D 9 <__main__.Graph_node object at 0x000001721F1E8290> {'E': 4}\n",
      "E 7 <__main__.Graph_node object at 0x000001721F4D8C90> {'A': 7, 'D': 6}\n",
      "A 0 NIL {'B': 10, 'C': 5}\n",
      "B 8 <__main__.Graph_node object at 0x000001721F4D8C90> {'C': 2, 'D': 1}\n"
     ]
    }
   ],
   "source": [
    "print(s)\n",
    "for x in s:\n",
    "    print(\n",
    "        x.vertex_name,\n",
    "        x.min_dist,\n",
    "        x.pred,\n",
    "        x.edge_dict\n",
    "    )"
   ]
  },
  {
   "cell_type": "code",
   "execution_count": 12,
   "metadata": {},
   "outputs": [
    {
     "name": "stdout",
     "output_type": "stream",
     "text": [
      "[<__main__.Graph_node object at 0x000001721F4895D0>, <__main__.Graph_node object at 0x000001721F1E8290>, <__main__.Graph_node object at 0x000001721F4D8C90>, <__main__.Graph_node object at 0x000001721F4DA950>, <__main__.Graph_node object at 0x000001721F4DAB90>]\n",
      "A 0 NIL {'B': 10, 'C': 5}\n",
      "B 8 <__main__.Graph_node object at 0x000001721F4D8C90> {'C': 2, 'D': 1}\n",
      "C 5 <__main__.Graph_node object at 0x000001721F4895D0> {'B': 3, 'D': 9, 'E': 2}\n",
      "D 9 <__main__.Graph_node object at 0x000001721F1E8290> {'E': 4}\n",
      "E 7 <__main__.Graph_node object at 0x000001721F4D8C90> {'A': 7, 'D': 6}\n"
     ]
    }
   ],
   "source": [
    "l = sorted(list(s), key = lambda x: x.vertex_name)\n",
    "\n",
    "print(l)\n",
    "for x in l:\n",
    "    print(\n",
    "        x.vertex_name,\n",
    "        x.min_dist,\n",
    "        x.pred,\n",
    "        x.edge_dict\n",
    "    )"
   ]
  },
  {
   "cell_type": "code",
   "execution_count": 13,
   "metadata": {},
   "outputs": [
    {
     "name": "stdout",
     "output_type": "stream",
     "text": [
      "0\n",
      "8\n",
      "5\n",
      "9\n",
      "7\n"
     ]
    }
   ],
   "source": [
    "l = sorted(list(s), key = lambda x: x.vertex_name)\n",
    "\n",
    "for x in l:\n",
    "    print(\n",
    "        # x.vertex_name,\n",
    "        x.min_dist,\n",
    "        # x.pred,\n",
    "        # x.edge_dict\n",
    "    )"
   ]
  }
 ],
 "metadata": {
  "kernelspec": {
   "display_name": "Python 3.11.0 64-bit",
   "language": "python",
   "name": "python3"
  },
  "language_info": {
   "codemirror_mode": {
    "name": "ipython",
    "version": 3
   },
   "file_extension": ".py",
   "mimetype": "text/x-python",
   "name": "python",
   "nbconvert_exporter": "python",
   "pygments_lexer": "ipython3",
   "version": "3.11.0"
  },
  "orig_nbformat": 4,
  "vscode": {
   "interpreter": {
    "hash": "7cba0d1a42559d80c1785ea75de96ff2e6fe2ecdb092afa9b1831b12c16563fe"
   }
  }
 },
 "nbformat": 4,
 "nbformat_minor": 2
}

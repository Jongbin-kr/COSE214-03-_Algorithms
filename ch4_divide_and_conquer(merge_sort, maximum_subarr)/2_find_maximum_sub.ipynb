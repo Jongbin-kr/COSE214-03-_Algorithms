{
 "cells": [
  {
   "cell_type": "code",
   "execution_count": 1,
   "metadata": {},
   "outputs": [],
   "source": [
    "## find_max_sub\n",
    "\n",
    "def find_maximum_cross(A, low, mid, high):\n",
    "    left_sum = float(\"-inf\")\n",
    "    temp_sum = 0\n",
    "\n",
    "    for i in range(low, mid+1)[::-1]:\n",
    "        temp_sum += A[i]\n",
    "        if temp_sum > left_sum:\n",
    "            left_sum = temp_sum\n",
    "            max_left_index = i\n",
    "\n",
    "\n",
    "    right_sum = float(\"-inf\")\n",
    "    temp_sum = 0\n",
    "\n",
    "    for j in range(mid+1, high+1):\n",
    "        temp_sum = temp_sum + A[j]\n",
    "        if temp_sum > right_sum:\n",
    "            right_sum = temp_sum\n",
    "            max_right_index = j\n",
    "    \n",
    "    return (max_left_index, max_right_index, left_sum + right_sum)\n",
    "\n",
    "\n",
    "\n",
    "def find_maximum_subarr(A, low, high):\n",
    "    if low == high:\n",
    "        return (low, high, A[low])\n",
    "\n",
    "    else:\n",
    "        mid = (low + high) // 2\n",
    "        \n",
    "        left_low, left_high, left_sum = find_maximum_subarr(A, low, mid)\n",
    "        right_low, right_high, right_sum = find_maximum_subarr(A, mid + 1, high)\n",
    "        cross_low, cross_high, cross_sum = find_maximum_cross(A, low, mid, high)\n",
    "\n",
    "        if (left_sum >= right_sum) and (left_sum >= cross_sum):\n",
    "            return left_low, left_high, left_sum\n",
    "        elif (right_sum >= left_sum) and (right_sum >= cross_sum):\n",
    "            return right_low, right_high, right_sum\n",
    "        else:\n",
    "            return cross_low, cross_high, cross_sum\n",
    "\n",
    "\n",
    "n = int(input())\n",
    "\n",
    "l = []\n",
    "for i in range(n):\n",
    "    a = int(input())\n",
    "    l.append(a)\n",
    "\n",
    "for i in find_maximum_subarr(l,0, len(l)-1):\n",
    "    print(i)\n",
    "\n"
   ]
  },
  {
   "cell_type": "code",
   "execution_count": 2,
   "metadata": {},
   "outputs": [],
   "source": [
    "## brute force\n",
    "\n",
    "def brute_force(A):\n",
    "    whole_sum = float(\"-inf\")\n",
    "\n",
    "    for low_index in range(len(A)):\n",
    "        for high_index in range(len(A)):\n",
    "            temp = 0\n",
    "\n",
    "            for current_index in range(low_index, high_index+1):\n",
    "                temp += A[current_index]\n",
    "            if temp > whole_sum:\n",
    "                whole_sum = temp\n",
    "                whole_low_index = low_index\n",
    "                whole_high_index = high_index\n",
    "\n",
    "    return whole_low_index, whole_high_index, whole_sum\n"
   ]
  },
  {
   "cell_type": "code",
   "execution_count": 3,
   "metadata": {},
   "outputs": [
    {
     "name": "stdout",
     "output_type": "stream",
     "text": [
      "(7, 10, 43)\n",
      "(7, 10, 43)\n"
     ]
    }
   ],
   "source": [
    "A = [13, -3, -25, 20, -3, -16, -23, 18, 20, -7, 12, -5, -22, 15, -4, 7]\n",
    "\n",
    "print(brute_force(A))\n",
    "print(find_maximum_subarr(A, 0, len(A)-1))\n"
   ]
  },
  {
   "cell_type": "code",
   "execution_count": 6,
   "metadata": {},
   "outputs": [
    {
     "data": {
      "text/plain": [
       "tuple"
      ]
     },
     "execution_count": 6,
     "metadata": {},
     "output_type": "execute_result"
    }
   ],
   "source": [
    "type(brute_force(A))"
   ]
  },
  {
   "cell_type": "code",
   "execution_count": 4,
   "metadata": {},
   "outputs": [
    {
     "name": "stdout",
     "output_type": "stream",
     "text": [
      "(2, 6, 7)\n",
      "(2, 6, 7)\n"
     ]
    }
   ],
   "source": [
    "l = [-2,-3,4,-1,-2,1,5,-3]\n",
    "\n",
    "print(brute_force(l))\n",
    "print(find_maximum_subarr(l, 0, len(l)-1))"
   ]
  },
  {
   "cell_type": "code",
   "execution_count": 5,
   "metadata": {},
   "outputs": [
    {
     "name": "stdout",
     "output_type": "stream",
     "text": [
      "[0, 1, 2, 3, 4, 5, 6, 7, 8, 9]\n",
      "[10, 9, 8, 7, 6, 5, 4, 3, 2, 1, 0]\n",
      "[10, 9, 8, 7, 6, 5, 4, 3, 2, 1, 0]\n"
     ]
    }
   ],
   "source": [
    "print(\n",
    "    list(range(10)),\n",
    "    list(range(0, 11)[::-1]),\n",
    "    list(range(10, -1, -1)),\n",
    "    sep = '\\n'\n",
    ")"
   ]
  },
  {
   "cell_type": "code",
   "execution_count": 2,
   "metadata": {},
   "outputs": [
    {
     "name": "stdout",
     "output_type": "stream",
     "text": [
      "0\n",
      "2\n",
      "8\n"
     ]
    }
   ],
   "source": [
    "## find_max_sub\n",
    "\n",
    "def find_maximum_cross(A, low, mid, high):\n",
    "    left_sum = float(\"-inf\")\n",
    "    temp_sum = 0\n",
    "\n",
    "    for i in range(low, mid+1)[::-1]:\n",
    "        temp_sum += A[i]\n",
    "        if temp_sum > left_sum:\n",
    "            left_sum = temp_sum\n",
    "            max_left_index = i\n",
    "\n",
    "\n",
    "    right_sum = float(\"-inf\")\n",
    "    temp_sum = 0\n",
    "\n",
    "    for j in range(mid+1, high+1):\n",
    "        temp_sum = temp_sum + A[j]\n",
    "        if temp_sum > right_sum:\n",
    "            right_sum = temp_sum\n",
    "            max_right_index = j\n",
    "    \n",
    "    return (max_left_index, max_right_index, left_sum + right_sum)\n",
    "\n",
    "\n",
    "\n",
    "def find_maximum_subarr(A, low, high):\n",
    "    if low == high:\n",
    "        return (low, high, A[low])\n",
    "\n",
    "    else:\n",
    "        mid = (low + high) // 2\n",
    "        \n",
    "        left_low, left_high, left_sum = find_maximum_subarr(A, low, mid)\n",
    "        right_low, right_high, right_sum = find_maximum_subarr(A, mid + 1, high)\n",
    "        cross_low, cross_high, cross_sum = find_maximum_cross(A, low, mid, high)\n",
    "\n",
    "        if (left_sum >= right_sum) and (left_sum >= cross_sum):\n",
    "            return left_low, left_high, left_sum\n",
    "        elif (right_sum >= left_sum) and (right_sum >= cross_sum):\n",
    "            return right_low, right_high, right_sum\n",
    "        else:\n",
    "            return cross_low, cross_high, cross_sum\n",
    "\n",
    "\n",
    "n = int(input())\n",
    "\n",
    "l = []\n",
    "for i in range(n):\n",
    "    a = int(input())\n",
    "    l.append(a)\n",
    "\n",
    "for i in find_maximum_subarr(l,0, len(l)-1):\n",
    "    print(i)\n",
    "\n"
   ]
  }
 ],
 "metadata": {
  "kernelspec": {
   "display_name": "Python 3.10.6 64-bit",
   "language": "python",
   "name": "python3"
  },
  "language_info": {
   "codemirror_mode": {
    "name": "ipython",
    "version": 3
   },
   "file_extension": ".py",
   "mimetype": "text/x-python",
   "name": "python",
   "nbconvert_exporter": "python",
   "pygments_lexer": "ipython3",
   "version": "3.10.7"
  },
  "orig_nbformat": 4,
  "vscode": {
   "interpreter": {
    "hash": "4afb0e4cf0ccb304fcfd6d7aabde069b35f9fca2102756c46539c1049f0d322d"
   }
  }
 },
 "nbformat": 4,
 "nbformat_minor": 2
}
